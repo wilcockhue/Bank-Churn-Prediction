{
 "cells": [
  {
   "cell_type": "code",
   "execution_count": 1,
   "id": "985b66a5",
   "metadata": {
    "_cell_guid": "b1076dfc-b9ad-4769-8c92-a6c4dae69d19",
    "_uuid": "8f2839f25d086af736a60e9eeb907d3b93b6e0e5",
    "execution": {
     "iopub.execute_input": "2024-09-10T09:05:16.514496Z",
     "iopub.status.busy": "2024-09-10T09:05:16.513852Z",
     "iopub.status.idle": "2024-09-10T09:05:16.994941Z",
     "shell.execute_reply": "2024-09-10T09:05:16.993630Z"
    },
    "papermill": {
     "duration": 0.495732,
     "end_time": "2024-09-10T09:05:16.998701",
     "exception": false,
     "start_time": "2024-09-10T09:05:16.502969",
     "status": "completed"
    },
    "tags": []
   },
   "outputs": [
    {
     "name": "stdout",
     "output_type": "stream",
     "text": [
      "/kaggle/input/um-game-playing-strength-of-mcts-variants/sample_submission.csv\n",
      "/kaggle/input/um-game-playing-strength-of-mcts-variants/train.csv\n",
      "/kaggle/input/um-game-playing-strength-of-mcts-variants/test.csv\n",
      "/kaggle/input/um-game-playing-strength-of-mcts-variants/concepts.csv\n",
      "/kaggle/input/um-game-playing-strength-of-mcts-variants/kaggle_evaluation/mcts_gateway.py\n",
      "/kaggle/input/um-game-playing-strength-of-mcts-variants/kaggle_evaluation/__init__.py\n",
      "/kaggle/input/um-game-playing-strength-of-mcts-variants/kaggle_evaluation/mcts_inference_server.py\n",
      "/kaggle/input/um-game-playing-strength-of-mcts-variants/kaggle_evaluation/core/templates.py\n",
      "/kaggle/input/um-game-playing-strength-of-mcts-variants/kaggle_evaluation/core/base_gateway.py\n",
      "/kaggle/input/um-game-playing-strength-of-mcts-variants/kaggle_evaluation/core/relay.py\n",
      "/kaggle/input/um-game-playing-strength-of-mcts-variants/kaggle_evaluation/core/kaggle_evaluation.proto\n",
      "/kaggle/input/um-game-playing-strength-of-mcts-variants/kaggle_evaluation/core/__init__.py\n",
      "/kaggle/input/um-game-playing-strength-of-mcts-variants/kaggle_evaluation/core/generated/kaggle_evaluation_pb2.py\n",
      "/kaggle/input/um-game-playing-strength-of-mcts-variants/kaggle_evaluation/core/generated/kaggle_evaluation_pb2_grpc.py\n",
      "/kaggle/input/um-game-playing-strength-of-mcts-variants/kaggle_evaluation/core/generated/__init__.py\n"
     ]
    }
   ],
   "source": [
    "# This Python 3 environment comes with many helpful analytics libraries installed\n",
    "# It is defined by the kaggle/python Docker image: https://github.com/kaggle/docker-python\n",
    "# For example, here's several helpful packages to load\n",
    "\n",
    "import numpy as np # linear algebra\n",
    "import pandas as pd # data processing, CSV file I/O (e.g. pd.read_csv)\n",
    "\n",
    "# Input data files are available in the read-only \"../input/\" directory\n",
    "# For example, running this (by clicking run or pressing Shift+Enter) will list all files under the input directory\n",
    "\n",
    "import os\n",
    "for dirname, _, filenames in os.walk('/kaggle/input'):\n",
    "    for filename in filenames:\n",
    "        print(os.path.join(dirname, filename))\n",
    "\n",
    "# You can write up to 20GB to the current directory (/kaggle/working/) that gets preserved as output when you create a version using \"Save & Run All\" \n",
    "# You can also write temporary files to /kaggle/temp/, but they won't be saved outside of the current session"
   ]
  },
  {
   "cell_type": "code",
   "execution_count": 2,
   "id": "53209047",
   "metadata": {
    "execution": {
     "iopub.execute_input": "2024-09-10T09:05:17.019726Z",
     "iopub.status.busy": "2024-09-10T09:05:17.019117Z",
     "iopub.status.idle": "2024-09-10T09:05:17.039717Z",
     "shell.execute_reply": "2024-09-10T09:05:17.038187Z"
    },
    "papermill": {
     "duration": 0.034063,
     "end_time": "2024-09-10T09:05:17.043058",
     "exception": false,
     "start_time": "2024-09-10T09:05:17.008995",
     "status": "completed"
    },
    "tags": []
   },
   "outputs": [],
   "source": [
    "def reduce_mem_usage(df):\n",
    "    \"\"\" iterate through all the columns of a dataframe and modify the data type\n",
    "        to reduce memory usage.        \n",
    "    \"\"\"\n",
    "    start_mem = df.memory_usage().sum() / 1024**2\n",
    "    print('Memory usage of dataframe is {:.2f} MB'.format(start_mem))\n",
    "    \n",
    "    for col in df.columns:\n",
    "        col_type = df[col].dtype\n",
    "        \n",
    "        if col_type != object:\n",
    "            c_min = df[col].min()\n",
    "            c_max = df[col].max()\n",
    "            if str(col_type)[:3] == 'int':\n",
    "                if c_min > np.iinfo(np.int8).min and c_max < np.iinfo(np.int8).max:\n",
    "                    df[col] = df[col].astype(np.int8)\n",
    "                elif c_min > np.iinfo(np.int16).min and c_max < np.iinfo(np.int16).max:\n",
    "                    df[col] = df[col].astype(np.int16)\n",
    "                elif c_min > np.iinfo(np.int32).min and c_max < np.iinfo(np.int32).max:\n",
    "                    df[col] = df[col].astype(np.int32)\n",
    "                elif c_min > np.iinfo(np.int64).min and c_max < np.iinfo(np.int64).max:\n",
    "                    df[col] = df[col].astype(np.int64)  \n",
    "            else:\n",
    "                if c_min > np.finfo(np.float16).min and c_max < np.finfo(np.float16).max:\n",
    "                    df[col] = df[col].astype(np.float16)\n",
    "                elif c_min > np.finfo(np.float32).min and c_max < np.finfo(np.float32).max:\n",
    "                    df[col] = df[col].astype(np.float32)\n",
    "                else:\n",
    "                    df[col] = df[col].astype(np.float64)\n",
    "        else:\n",
    "            df[col] = df[col].astype('category')\n",
    "\n",
    "    end_mem = df.memory_usage().sum() / 1024**2\n",
    "    print('Memory usage after optimization is: {:.2f} MB'.format(end_mem))\n",
    "    print('Decreased by {:.1f}%'.format(100 * (start_mem - end_mem) / start_mem))\n",
    "    \n",
    "    return df\n",
    "\n",
    "\n",
    "def import_data(file):\n",
    "    \"\"\"create a dataframe and optimize its memory usage\"\"\"\n",
    "    df = pd.read_csv(file, parse_dates=True, keep_date_col=True)\n",
    "    df = reduce_mem_usage(df)\n",
    "    return df"
   ]
  },
  {
   "cell_type": "code",
   "execution_count": 3,
   "id": "0c5735a7",
   "metadata": {
    "execution": {
     "iopub.execute_input": "2024-09-10T09:05:17.061010Z",
     "iopub.status.busy": "2024-09-10T09:05:17.060559Z",
     "iopub.status.idle": "2024-09-10T09:06:08.589914Z",
     "shell.execute_reply": "2024-09-10T09:06:08.588051Z"
    },
    "papermill": {
     "duration": 51.54307,
     "end_time": "2024-09-10T09:06:08.594164",
     "exception": false,
     "start_time": "2024-09-10T09:05:17.051094",
     "status": "completed"
    },
    "tags": []
   },
   "outputs": [
    {
     "name": "stderr",
     "output_type": "stream",
     "text": [
      "/tmp/ipykernel_18/147790395.py:42: FutureWarning: The 'keep_date_col' keyword in pd.read_csv is deprecated and will be removed in a future version. Explicitly remove unwanted columns after parsing instead.\n",
      "  df = pd.read_csv(file, parse_dates=True, keep_date_col=True)\n"
     ]
    },
    {
     "name": "stdout",
     "output_type": "stream",
     "text": [
      "Memory usage of dataframe is 1448.46 MB\n",
      "Memory usage after optimization is: 259.71 MB\n",
      "Decreased by 82.1%\n",
      "Memory usage of dataframe is 0.02 MB\n"
     ]
    },
    {
     "name": "stderr",
     "output_type": "stream",
     "text": [
      "/tmp/ipykernel_18/147790395.py:42: FutureWarning: The 'keep_date_col' keyword in pd.read_csv is deprecated and will be removed in a future version. Explicitly remove unwanted columns after parsing instead.\n",
      "  df = pd.read_csv(file, parse_dates=True, keep_date_col=True)\n"
     ]
    },
    {
     "name": "stdout",
     "output_type": "stream",
     "text": [
      "Memory usage after optimization is: 0.00 MB\n",
      "Decreased by 79.1%\n",
      "Memory usage of dataframe is 0.06 MB\n",
      "Memory usage after optimization is: 0.12 MB\n",
      "Decreased by -121.2%\n"
     ]
    },
    {
     "name": "stderr",
     "output_type": "stream",
     "text": [
      "/tmp/ipykernel_18/147790395.py:42: FutureWarning: The 'keep_date_col' keyword in pd.read_csv is deprecated and will be removed in a future version. Explicitly remove unwanted columns after parsing instead.\n",
      "  df = pd.read_csv(file, parse_dates=True, keep_date_col=True)\n"
     ]
    }
   ],
   "source": [
    "train = import_data('/kaggle/input/um-game-playing-strength-of-mcts-variants/train.csv')\n",
    "test = import_data('/kaggle/input/um-game-playing-strength-of-mcts-variants/test.csv')\n",
    "concepts = import_data('/kaggle/input/um-game-playing-strength-of-mcts-variants/concepts.csv')"
   ]
  },
  {
   "cell_type": "code",
   "execution_count": 4,
   "id": "a44120fd",
   "metadata": {
    "execution": {
     "iopub.execute_input": "2024-09-10T09:06:08.614193Z",
     "iopub.status.busy": "2024-09-10T09:06:08.613711Z",
     "iopub.status.idle": "2024-09-10T09:06:08.662792Z",
     "shell.execute_reply": "2024-09-10T09:06:08.661289Z"
    },
    "papermill": {
     "duration": 0.062631,
     "end_time": "2024-09-10T09:06:08.665777",
     "exception": false,
     "start_time": "2024-09-10T09:06:08.603146",
     "status": "completed"
    },
    "tags": []
   },
   "outputs": [
    {
     "name": "stdout",
     "output_type": "stream",
     "text": [
      "<class 'pandas.core.frame.DataFrame'>\n",
      "RangeIndex: 233234 entries, 0 to 233233\n",
      "Columns: 814 entries, Id to utility_agent1\n",
      "dtypes: category(5), float16(170), float32(13), float64(18), int16(12), int32(1), int8(595)\n",
      "memory usage: 259.7 MB\n"
     ]
    }
   ],
   "source": [
    "\n",
    "train.info()  # Get a summary of the dataset including column types and non-null counts\n"
   ]
  },
  {
   "cell_type": "code",
   "execution_count": 5,
   "id": "c98a6cef",
   "metadata": {
    "execution": {
     "iopub.execute_input": "2024-09-10T09:06:08.685254Z",
     "iopub.status.busy": "2024-09-10T09:06:08.684774Z",
     "iopub.status.idle": "2024-09-10T09:06:09.911258Z",
     "shell.execute_reply": "2024-09-10T09:06:09.909888Z"
    },
    "papermill": {
     "duration": 1.239892,
     "end_time": "2024-09-10T09:06:09.914349",
     "exception": false,
     "start_time": "2024-09-10T09:06:08.674457",
     "status": "completed"
    },
    "tags": []
   },
   "outputs": [
    {
     "data": {
      "text/html": [
       "<div>\n",
       "<style scoped>\n",
       "    .dataframe tbody tr th:only-of-type {\n",
       "        vertical-align: middle;\n",
       "    }\n",
       "\n",
       "    .dataframe tbody tr th {\n",
       "        vertical-align: top;\n",
       "    }\n",
       "\n",
       "    .dataframe thead th {\n",
       "        text-align: right;\n",
       "    }\n",
       "</style>\n",
       "<table border=\"1\" class=\"dataframe\">\n",
       "  <thead>\n",
       "    <tr style=\"text-align: right;\">\n",
       "      <th></th>\n",
       "      <th>Id</th>\n",
       "      <th>GameRulesetName</th>\n",
       "      <th>agent1</th>\n",
       "      <th>agent2</th>\n",
       "      <th>Properties</th>\n",
       "      <th>Format</th>\n",
       "      <th>Time</th>\n",
       "      <th>Discrete</th>\n",
       "      <th>Realtime</th>\n",
       "      <th>Turns</th>\n",
       "      <th>...</th>\n",
       "      <th>DoLudeme</th>\n",
       "      <th>Trigger</th>\n",
       "      <th>PlayoutsPerSecond</th>\n",
       "      <th>MovesPerSecond</th>\n",
       "      <th>EnglishRules</th>\n",
       "      <th>LudRules</th>\n",
       "      <th>num_wins_agent1</th>\n",
       "      <th>num_draws_agent1</th>\n",
       "      <th>num_losses_agent1</th>\n",
       "      <th>utility_agent1</th>\n",
       "    </tr>\n",
       "  </thead>\n",
       "  <tbody>\n",
       "    <tr>\n",
       "      <th>0</th>\n",
       "      <td>0</td>\n",
       "      <td>00Y</td>\n",
       "      <td>MCTS-ProgressiveHistory-0.1-MAST-false</td>\n",
       "      <td>MCTS-ProgressiveHistory-0.6-Random200-false</td>\n",
       "      <td>1</td>\n",
       "      <td>1</td>\n",
       "      <td>1</td>\n",
       "      <td>1</td>\n",
       "      <td>0</td>\n",
       "      <td>1</td>\n",
       "      <td>...</td>\n",
       "      <td>0</td>\n",
       "      <td>1</td>\n",
       "      <td>298.070007</td>\n",
       "      <td>18877.169922</td>\n",
       "      <td>Goal: Connect all three edge colors with a sin...</td>\n",
       "      <td>(game \"00'Y'\" (players 2) (equipment { (board ...</td>\n",
       "      <td>4</td>\n",
       "      <td>0</td>\n",
       "      <td>11</td>\n",
       "      <td>-0.466553</td>\n",
       "    </tr>\n",
       "    <tr>\n",
       "      <th>1</th>\n",
       "      <td>1</td>\n",
       "      <td>00Y</td>\n",
       "      <td>MCTS-ProgressiveHistory-0.1-MAST-false</td>\n",
       "      <td>MCTS-UCB1GRAVE-0.6-NST-true</td>\n",
       "      <td>1</td>\n",
       "      <td>1</td>\n",
       "      <td>1</td>\n",
       "      <td>1</td>\n",
       "      <td>0</td>\n",
       "      <td>1</td>\n",
       "      <td>...</td>\n",
       "      <td>0</td>\n",
       "      <td>1</td>\n",
       "      <td>298.070007</td>\n",
       "      <td>18877.169922</td>\n",
       "      <td>Goal: Connect all three edge colors with a sin...</td>\n",
       "      <td>(game \"00'Y'\" (players 2) (equipment { (board ...</td>\n",
       "      <td>5</td>\n",
       "      <td>0</td>\n",
       "      <td>10</td>\n",
       "      <td>-0.333252</td>\n",
       "    </tr>\n",
       "    <tr>\n",
       "      <th>2</th>\n",
       "      <td>2</td>\n",
       "      <td>00Y</td>\n",
       "      <td>MCTS-ProgressiveHistory-0.1-MAST-true</td>\n",
       "      <td>MCTS-UCB1-0.1-NST-false</td>\n",
       "      <td>1</td>\n",
       "      <td>1</td>\n",
       "      <td>1</td>\n",
       "      <td>1</td>\n",
       "      <td>0</td>\n",
       "      <td>1</td>\n",
       "      <td>...</td>\n",
       "      <td>0</td>\n",
       "      <td>1</td>\n",
       "      <td>298.070007</td>\n",
       "      <td>18877.169922</td>\n",
       "      <td>Goal: Connect all three edge colors with a sin...</td>\n",
       "      <td>(game \"00'Y'\" (players 2) (equipment { (board ...</td>\n",
       "      <td>7</td>\n",
       "      <td>0</td>\n",
       "      <td>8</td>\n",
       "      <td>-0.066650</td>\n",
       "    </tr>\n",
       "    <tr>\n",
       "      <th>3</th>\n",
       "      <td>3</td>\n",
       "      <td>00Y</td>\n",
       "      <td>MCTS-ProgressiveHistory-0.1-MAST-true</td>\n",
       "      <td>MCTS-UCB1-0.6-NST-false</td>\n",
       "      <td>1</td>\n",
       "      <td>1</td>\n",
       "      <td>1</td>\n",
       "      <td>1</td>\n",
       "      <td>0</td>\n",
       "      <td>1</td>\n",
       "      <td>...</td>\n",
       "      <td>0</td>\n",
       "      <td>1</td>\n",
       "      <td>298.070007</td>\n",
       "      <td>18877.169922</td>\n",
       "      <td>Goal: Connect all three edge colors with a sin...</td>\n",
       "      <td>(game \"00'Y'\" (players 2) (equipment { (board ...</td>\n",
       "      <td>5</td>\n",
       "      <td>0</td>\n",
       "      <td>10</td>\n",
       "      <td>-0.333252</td>\n",
       "    </tr>\n",
       "    <tr>\n",
       "      <th>4</th>\n",
       "      <td>4</td>\n",
       "      <td>00Y</td>\n",
       "      <td>MCTS-ProgressiveHistory-0.1-MAST-true</td>\n",
       "      <td>MCTS-UCB1GRAVE-1.41421356237-NST-false</td>\n",
       "      <td>1</td>\n",
       "      <td>1</td>\n",
       "      <td>1</td>\n",
       "      <td>1</td>\n",
       "      <td>0</td>\n",
       "      <td>1</td>\n",
       "      <td>...</td>\n",
       "      <td>0</td>\n",
       "      <td>1</td>\n",
       "      <td>298.070007</td>\n",
       "      <td>18877.169922</td>\n",
       "      <td>Goal: Connect all three edge colors with a sin...</td>\n",
       "      <td>(game \"00'Y'\" (players 2) (equipment { (board ...</td>\n",
       "      <td>5</td>\n",
       "      <td>0</td>\n",
       "      <td>10</td>\n",
       "      <td>-0.333252</td>\n",
       "    </tr>\n",
       "  </tbody>\n",
       "</table>\n",
       "<p>5 rows × 796 columns</p>\n",
       "</div>"
      ],
      "text/plain": [
       "   Id GameRulesetName                                  agent1  \\\n",
       "0   0             00Y  MCTS-ProgressiveHistory-0.1-MAST-false   \n",
       "1   1             00Y  MCTS-ProgressiveHistory-0.1-MAST-false   \n",
       "2   2             00Y   MCTS-ProgressiveHistory-0.1-MAST-true   \n",
       "3   3             00Y   MCTS-ProgressiveHistory-0.1-MAST-true   \n",
       "4   4             00Y   MCTS-ProgressiveHistory-0.1-MAST-true   \n",
       "\n",
       "                                        agent2  Properties  Format  Time  \\\n",
       "0  MCTS-ProgressiveHistory-0.6-Random200-false           1       1     1   \n",
       "1                  MCTS-UCB1GRAVE-0.6-NST-true           1       1     1   \n",
       "2                      MCTS-UCB1-0.1-NST-false           1       1     1   \n",
       "3                      MCTS-UCB1-0.6-NST-false           1       1     1   \n",
       "4       MCTS-UCB1GRAVE-1.41421356237-NST-false           1       1     1   \n",
       "\n",
       "   Discrete  Realtime  Turns  ...  DoLudeme  Trigger  PlayoutsPerSecond  \\\n",
       "0         1         0      1  ...         0        1         298.070007   \n",
       "1         1         0      1  ...         0        1         298.070007   \n",
       "2         1         0      1  ...         0        1         298.070007   \n",
       "3         1         0      1  ...         0        1         298.070007   \n",
       "4         1         0      1  ...         0        1         298.070007   \n",
       "\n",
       "   MovesPerSecond                                       EnglishRules  \\\n",
       "0    18877.169922  Goal: Connect all three edge colors with a sin...   \n",
       "1    18877.169922  Goal: Connect all three edge colors with a sin...   \n",
       "2    18877.169922  Goal: Connect all three edge colors with a sin...   \n",
       "3    18877.169922  Goal: Connect all three edge colors with a sin...   \n",
       "4    18877.169922  Goal: Connect all three edge colors with a sin...   \n",
       "\n",
       "                                            LudRules  num_wins_agent1  \\\n",
       "0  (game \"00'Y'\" (players 2) (equipment { (board ...                4   \n",
       "1  (game \"00'Y'\" (players 2) (equipment { (board ...                5   \n",
       "2  (game \"00'Y'\" (players 2) (equipment { (board ...                7   \n",
       "3  (game \"00'Y'\" (players 2) (equipment { (board ...                5   \n",
       "4  (game \"00'Y'\" (players 2) (equipment { (board ...                5   \n",
       "\n",
       "   num_draws_agent1  num_losses_agent1  utility_agent1  \n",
       "0                 0                 11       -0.466553  \n",
       "1                 0                 10       -0.333252  \n",
       "2                 0                  8       -0.066650  \n",
       "3                 0                 10       -0.333252  \n",
       "4                 0                 10       -0.333252  \n",
       "\n",
       "[5 rows x 796 columns]"
      ]
     },
     "execution_count": 5,
     "metadata": {},
     "output_type": "execute_result"
    }
   ],
   "source": [
    "missing_percentage = train.isnull().mean() * 100\n",
    "# Drop columns with more than 50% missing values\n",
    "train = train.drop(columns=missing_percentage[missing_percentage > 50].index)\n",
    "train.head()"
   ]
  },
  {
   "cell_type": "code",
   "execution_count": 6,
   "id": "7bc75849",
   "metadata": {
    "execution": {
     "iopub.execute_input": "2024-09-10T09:06:09.934622Z",
     "iopub.status.busy": "2024-09-10T09:06:09.934112Z",
     "iopub.status.idle": "2024-09-10T09:06:10.576027Z",
     "shell.execute_reply": "2024-09-10T09:06:10.574779Z"
    },
    "papermill": {
     "duration": 0.656008,
     "end_time": "2024-09-10T09:06:10.579346",
     "exception": false,
     "start_time": "2024-09-10T09:06:09.923338",
     "status": "completed"
    },
    "tags": []
   },
   "outputs": [],
   "source": [
    "y = train[['utility_agent1']]\n",
    "X = train.drop('utility_agent1', axis=1)"
   ]
  },
  {
   "cell_type": "code",
   "execution_count": 7,
   "id": "18259daa",
   "metadata": {
    "execution": {
     "iopub.execute_input": "2024-09-10T09:06:10.599669Z",
     "iopub.status.busy": "2024-09-10T09:06:10.598781Z",
     "iopub.status.idle": "2024-09-10T09:06:12.568657Z",
     "shell.execute_reply": "2024-09-10T09:06:12.567178Z"
    },
    "papermill": {
     "duration": 1.983504,
     "end_time": "2024-09-10T09:06:12.572160",
     "exception": false,
     "start_time": "2024-09-10T09:06:10.588656",
     "status": "completed"
    },
    "tags": []
   },
   "outputs": [
    {
     "name": "stdout",
     "output_type": "stream",
     "text": [
      "Id                   233234\n",
      "GameRulesetName        1377\n",
      "agent1                   72\n",
      "agent2                   72\n",
      "Properties                1\n",
      "                      ...  \n",
      "EnglishRules           1328\n",
      "LudRules               1373\n",
      "num_wins_agent1          33\n",
      "num_draws_agent1         31\n",
      "num_losses_agent1        34\n",
      "Length: 795, dtype: int64\n"
     ]
    }
   ],
   "source": [
    "# Number of unique values in each column\n",
    "unique_counts = X.nunique()\n",
    "print(unique_counts)\n",
    "# Drop columns with only one unique value\n",
    "X = X.drop(columns=unique_counts[unique_counts == 1].index)\n",
    "test = test.drop(columns=unique_counts[unique_counts == 1].index)"
   ]
  },
  {
   "cell_type": "code",
   "execution_count": 8,
   "id": "b2839a1e",
   "metadata": {
    "execution": {
     "iopub.execute_input": "2024-09-10T09:06:12.593466Z",
     "iopub.status.busy": "2024-09-10T09:06:12.592956Z",
     "iopub.status.idle": "2024-09-10T09:06:13.691515Z",
     "shell.execute_reply": "2024-09-10T09:06:13.689978Z"
    },
    "papermill": {
     "duration": 1.112776,
     "end_time": "2024-09-10T09:06:13.694363",
     "exception": false,
     "start_time": "2024-09-10T09:06:12.581587",
     "status": "completed"
    },
    "tags": []
   },
   "outputs": [
    {
     "name": "stderr",
     "output_type": "stream",
     "text": [
      "/tmp/ipykernel_18/667625448.py:2: PerformanceWarning: DataFrame is highly fragmented.  This is usually the result of calling `frame.insert` many times, which has poor performance.  Consider joining all columns at once using pd.concat(axis=1) instead. To get a de-fragmented frame, use `newframe = frame.copy()`\n",
      "  X[['agent1_part1', 'agent1_part2', 'agent1_part3', 'agent1_part4', 'agent1_part5']] = X['agent1'].str.split('-', expand=True)\n",
      "/tmp/ipykernel_18/667625448.py:2: PerformanceWarning: DataFrame is highly fragmented.  This is usually the result of calling `frame.insert` many times, which has poor performance.  Consider joining all columns at once using pd.concat(axis=1) instead. To get a de-fragmented frame, use `newframe = frame.copy()`\n",
      "  X[['agent1_part1', 'agent1_part2', 'agent1_part3', 'agent1_part4', 'agent1_part5']] = X['agent1'].str.split('-', expand=True)\n",
      "/tmp/ipykernel_18/667625448.py:2: PerformanceWarning: DataFrame is highly fragmented.  This is usually the result of calling `frame.insert` many times, which has poor performance.  Consider joining all columns at once using pd.concat(axis=1) instead. To get a de-fragmented frame, use `newframe = frame.copy()`\n",
      "  X[['agent1_part1', 'agent1_part2', 'agent1_part3', 'agent1_part4', 'agent1_part5']] = X['agent1'].str.split('-', expand=True)\n",
      "/tmp/ipykernel_18/667625448.py:2: PerformanceWarning: DataFrame is highly fragmented.  This is usually the result of calling `frame.insert` many times, which has poor performance.  Consider joining all columns at once using pd.concat(axis=1) instead. To get a de-fragmented frame, use `newframe = frame.copy()`\n",
      "  X[['agent1_part1', 'agent1_part2', 'agent1_part3', 'agent1_part4', 'agent1_part5']] = X['agent1'].str.split('-', expand=True)\n",
      "/tmp/ipykernel_18/667625448.py:2: PerformanceWarning: DataFrame is highly fragmented.  This is usually the result of calling `frame.insert` many times, which has poor performance.  Consider joining all columns at once using pd.concat(axis=1) instead. To get a de-fragmented frame, use `newframe = frame.copy()`\n",
      "  X[['agent1_part1', 'agent1_part2', 'agent1_part3', 'agent1_part4', 'agent1_part5']] = X['agent1'].str.split('-', expand=True)\n",
      "/tmp/ipykernel_18/667625448.py:5: PerformanceWarning: DataFrame is highly fragmented.  This is usually the result of calling `frame.insert` many times, which has poor performance.  Consider joining all columns at once using pd.concat(axis=1) instead. To get a de-fragmented frame, use `newframe = frame.copy()`\n",
      "  X[['agent2_part1', 'agent2_part2', 'agent2_part3', 'agent2_part4', 'agent2_part5']] = X['agent2'].str.split('-', expand=True)\n",
      "/tmp/ipykernel_18/667625448.py:5: PerformanceWarning: DataFrame is highly fragmented.  This is usually the result of calling `frame.insert` many times, which has poor performance.  Consider joining all columns at once using pd.concat(axis=1) instead. To get a de-fragmented frame, use `newframe = frame.copy()`\n",
      "  X[['agent2_part1', 'agent2_part2', 'agent2_part3', 'agent2_part4', 'agent2_part5']] = X['agent2'].str.split('-', expand=True)\n",
      "/tmp/ipykernel_18/667625448.py:5: PerformanceWarning: DataFrame is highly fragmented.  This is usually the result of calling `frame.insert` many times, which has poor performance.  Consider joining all columns at once using pd.concat(axis=1) instead. To get a de-fragmented frame, use `newframe = frame.copy()`\n",
      "  X[['agent2_part1', 'agent2_part2', 'agent2_part3', 'agent2_part4', 'agent2_part5']] = X['agent2'].str.split('-', expand=True)\n",
      "/tmp/ipykernel_18/667625448.py:5: PerformanceWarning: DataFrame is highly fragmented.  This is usually the result of calling `frame.insert` many times, which has poor performance.  Consider joining all columns at once using pd.concat(axis=1) instead. To get a de-fragmented frame, use `newframe = frame.copy()`\n",
      "  X[['agent2_part1', 'agent2_part2', 'agent2_part3', 'agent2_part4', 'agent2_part5']] = X['agent2'].str.split('-', expand=True)\n",
      "/tmp/ipykernel_18/667625448.py:5: PerformanceWarning: DataFrame is highly fragmented.  This is usually the result of calling `frame.insert` many times, which has poor performance.  Consider joining all columns at once using pd.concat(axis=1) instead. To get a de-fragmented frame, use `newframe = frame.copy()`\n",
      "  X[['agent2_part1', 'agent2_part2', 'agent2_part3', 'agent2_part4', 'agent2_part5']] = X['agent2'].str.split('-', expand=True)\n",
      "/tmp/ipykernel_18/667625448.py:7: PerformanceWarning: DataFrame is highly fragmented.  This is usually the result of calling `frame.insert` many times, which has poor performance.  Consider joining all columns at once using pd.concat(axis=1) instead. To get a de-fragmented frame, use `newframe = frame.copy()`\n",
      "  test[['agent1_part1', 'agent1_part2', 'agent1_part3', 'agent1_part4', 'agent1_part5']] = test['agent1'].str.split('-', expand=True)\n",
      "/tmp/ipykernel_18/667625448.py:7: PerformanceWarning: DataFrame is highly fragmented.  This is usually the result of calling `frame.insert` many times, which has poor performance.  Consider joining all columns at once using pd.concat(axis=1) instead. To get a de-fragmented frame, use `newframe = frame.copy()`\n",
      "  test[['agent1_part1', 'agent1_part2', 'agent1_part3', 'agent1_part4', 'agent1_part5']] = test['agent1'].str.split('-', expand=True)\n",
      "/tmp/ipykernel_18/667625448.py:7: PerformanceWarning: DataFrame is highly fragmented.  This is usually the result of calling `frame.insert` many times, which has poor performance.  Consider joining all columns at once using pd.concat(axis=1) instead. To get a de-fragmented frame, use `newframe = frame.copy()`\n",
      "  test[['agent1_part1', 'agent1_part2', 'agent1_part3', 'agent1_part4', 'agent1_part5']] = test['agent1'].str.split('-', expand=True)\n",
      "/tmp/ipykernel_18/667625448.py:7: PerformanceWarning: DataFrame is highly fragmented.  This is usually the result of calling `frame.insert` many times, which has poor performance.  Consider joining all columns at once using pd.concat(axis=1) instead. To get a de-fragmented frame, use `newframe = frame.copy()`\n",
      "  test[['agent1_part1', 'agent1_part2', 'agent1_part3', 'agent1_part4', 'agent1_part5']] = test['agent1'].str.split('-', expand=True)\n",
      "/tmp/ipykernel_18/667625448.py:7: PerformanceWarning: DataFrame is highly fragmented.  This is usually the result of calling `frame.insert` many times, which has poor performance.  Consider joining all columns at once using pd.concat(axis=1) instead. To get a de-fragmented frame, use `newframe = frame.copy()`\n",
      "  test[['agent1_part1', 'agent1_part2', 'agent1_part3', 'agent1_part4', 'agent1_part5']] = test['agent1'].str.split('-', expand=True)\n",
      "/tmp/ipykernel_18/667625448.py:10: PerformanceWarning: DataFrame is highly fragmented.  This is usually the result of calling `frame.insert` many times, which has poor performance.  Consider joining all columns at once using pd.concat(axis=1) instead. To get a de-fragmented frame, use `newframe = frame.copy()`\n",
      "  test[['agent2_part1', 'agent2_part2', 'agent2_part3', 'agent2_part4', 'agent2_part5']] = test['agent2'].str.split('-', expand=True)\n",
      "/tmp/ipykernel_18/667625448.py:10: PerformanceWarning: DataFrame is highly fragmented.  This is usually the result of calling `frame.insert` many times, which has poor performance.  Consider joining all columns at once using pd.concat(axis=1) instead. To get a de-fragmented frame, use `newframe = frame.copy()`\n",
      "  test[['agent2_part1', 'agent2_part2', 'agent2_part3', 'agent2_part4', 'agent2_part5']] = test['agent2'].str.split('-', expand=True)\n",
      "/tmp/ipykernel_18/667625448.py:10: PerformanceWarning: DataFrame is highly fragmented.  This is usually the result of calling `frame.insert` many times, which has poor performance.  Consider joining all columns at once using pd.concat(axis=1) instead. To get a de-fragmented frame, use `newframe = frame.copy()`\n",
      "  test[['agent2_part1', 'agent2_part2', 'agent2_part3', 'agent2_part4', 'agent2_part5']] = test['agent2'].str.split('-', expand=True)\n",
      "/tmp/ipykernel_18/667625448.py:10: PerformanceWarning: DataFrame is highly fragmented.  This is usually the result of calling `frame.insert` many times, which has poor performance.  Consider joining all columns at once using pd.concat(axis=1) instead. To get a de-fragmented frame, use `newframe = frame.copy()`\n",
      "  test[['agent2_part1', 'agent2_part2', 'agent2_part3', 'agent2_part4', 'agent2_part5']] = test['agent2'].str.split('-', expand=True)\n",
      "/tmp/ipykernel_18/667625448.py:10: PerformanceWarning: DataFrame is highly fragmented.  This is usually the result of calling `frame.insert` many times, which has poor performance.  Consider joining all columns at once using pd.concat(axis=1) instead. To get a de-fragmented frame, use `newframe = frame.copy()`\n",
      "  test[['agent2_part1', 'agent2_part2', 'agent2_part3', 'agent2_part4', 'agent2_part5']] = test['agent2'].str.split('-', expand=True)\n"
     ]
    },
    {
     "data": {
      "text/html": [
       "<div>\n",
       "<style scoped>\n",
       "    .dataframe tbody tr th:only-of-type {\n",
       "        vertical-align: middle;\n",
       "    }\n",
       "\n",
       "    .dataframe tbody tr th {\n",
       "        vertical-align: top;\n",
       "    }\n",
       "\n",
       "    .dataframe thead th {\n",
       "        text-align: right;\n",
       "    }\n",
       "</style>\n",
       "<table border=\"1\" class=\"dataframe\">\n",
       "  <thead>\n",
       "    <tr style=\"text-align: right;\">\n",
       "      <th></th>\n",
       "      <th>GameRulesetName</th>\n",
       "      <th>Stochastic</th>\n",
       "      <th>Asymmetric</th>\n",
       "      <th>AsymmetricForces</th>\n",
       "      <th>AsymmetricPiecesType</th>\n",
       "      <th>PlayersWithDirections</th>\n",
       "      <th>Cooperation</th>\n",
       "      <th>Team</th>\n",
       "      <th>Shape</th>\n",
       "      <th>SquareShape</th>\n",
       "      <th>...</th>\n",
       "      <th>agent1_part1</th>\n",
       "      <th>agent1_part2</th>\n",
       "      <th>agent1_part3</th>\n",
       "      <th>agent1_part4</th>\n",
       "      <th>agent1_part5</th>\n",
       "      <th>agent2_part1</th>\n",
       "      <th>agent2_part2</th>\n",
       "      <th>agent2_part3</th>\n",
       "      <th>agent2_part4</th>\n",
       "      <th>agent2_part5</th>\n",
       "    </tr>\n",
       "  </thead>\n",
       "  <tbody>\n",
       "    <tr>\n",
       "      <th>0</th>\n",
       "      <td>00Y</td>\n",
       "      <td>0</td>\n",
       "      <td>0</td>\n",
       "      <td>0</td>\n",
       "      <td>0</td>\n",
       "      <td>0</td>\n",
       "      <td>0</td>\n",
       "      <td>0</td>\n",
       "      <td>1</td>\n",
       "      <td>0</td>\n",
       "      <td>...</td>\n",
       "      <td>MCTS</td>\n",
       "      <td>ProgressiveHistory</td>\n",
       "      <td>0.1</td>\n",
       "      <td>MAST</td>\n",
       "      <td>false</td>\n",
       "      <td>MCTS</td>\n",
       "      <td>ProgressiveHistory</td>\n",
       "      <td>0.6</td>\n",
       "      <td>Random200</td>\n",
       "      <td>false</td>\n",
       "    </tr>\n",
       "    <tr>\n",
       "      <th>1</th>\n",
       "      <td>00Y</td>\n",
       "      <td>0</td>\n",
       "      <td>0</td>\n",
       "      <td>0</td>\n",
       "      <td>0</td>\n",
       "      <td>0</td>\n",
       "      <td>0</td>\n",
       "      <td>0</td>\n",
       "      <td>1</td>\n",
       "      <td>0</td>\n",
       "      <td>...</td>\n",
       "      <td>MCTS</td>\n",
       "      <td>ProgressiveHistory</td>\n",
       "      <td>0.1</td>\n",
       "      <td>MAST</td>\n",
       "      <td>false</td>\n",
       "      <td>MCTS</td>\n",
       "      <td>UCB1GRAVE</td>\n",
       "      <td>0.6</td>\n",
       "      <td>NST</td>\n",
       "      <td>true</td>\n",
       "    </tr>\n",
       "    <tr>\n",
       "      <th>2</th>\n",
       "      <td>00Y</td>\n",
       "      <td>0</td>\n",
       "      <td>0</td>\n",
       "      <td>0</td>\n",
       "      <td>0</td>\n",
       "      <td>0</td>\n",
       "      <td>0</td>\n",
       "      <td>0</td>\n",
       "      <td>1</td>\n",
       "      <td>0</td>\n",
       "      <td>...</td>\n",
       "      <td>MCTS</td>\n",
       "      <td>ProgressiveHistory</td>\n",
       "      <td>0.1</td>\n",
       "      <td>MAST</td>\n",
       "      <td>true</td>\n",
       "      <td>MCTS</td>\n",
       "      <td>UCB1</td>\n",
       "      <td>0.1</td>\n",
       "      <td>NST</td>\n",
       "      <td>false</td>\n",
       "    </tr>\n",
       "    <tr>\n",
       "      <th>3</th>\n",
       "      <td>00Y</td>\n",
       "      <td>0</td>\n",
       "      <td>0</td>\n",
       "      <td>0</td>\n",
       "      <td>0</td>\n",
       "      <td>0</td>\n",
       "      <td>0</td>\n",
       "      <td>0</td>\n",
       "      <td>1</td>\n",
       "      <td>0</td>\n",
       "      <td>...</td>\n",
       "      <td>MCTS</td>\n",
       "      <td>ProgressiveHistory</td>\n",
       "      <td>0.1</td>\n",
       "      <td>MAST</td>\n",
       "      <td>true</td>\n",
       "      <td>MCTS</td>\n",
       "      <td>UCB1</td>\n",
       "      <td>0.6</td>\n",
       "      <td>NST</td>\n",
       "      <td>false</td>\n",
       "    </tr>\n",
       "    <tr>\n",
       "      <th>4</th>\n",
       "      <td>00Y</td>\n",
       "      <td>0</td>\n",
       "      <td>0</td>\n",
       "      <td>0</td>\n",
       "      <td>0</td>\n",
       "      <td>0</td>\n",
       "      <td>0</td>\n",
       "      <td>0</td>\n",
       "      <td>1</td>\n",
       "      <td>0</td>\n",
       "      <td>...</td>\n",
       "      <td>MCTS</td>\n",
       "      <td>ProgressiveHistory</td>\n",
       "      <td>0.1</td>\n",
       "      <td>MAST</td>\n",
       "      <td>true</td>\n",
       "      <td>MCTS</td>\n",
       "      <td>UCB1GRAVE</td>\n",
       "      <td>1.41421356237</td>\n",
       "      <td>NST</td>\n",
       "      <td>false</td>\n",
       "    </tr>\n",
       "  </tbody>\n",
       "</table>\n",
       "<p>5 rows × 604 columns</p>\n",
       "</div>"
      ],
      "text/plain": [
       "  GameRulesetName  Stochastic  Asymmetric  AsymmetricForces  \\\n",
       "0             00Y           0           0                 0   \n",
       "1             00Y           0           0                 0   \n",
       "2             00Y           0           0                 0   \n",
       "3             00Y           0           0                 0   \n",
       "4             00Y           0           0                 0   \n",
       "\n",
       "   AsymmetricPiecesType  PlayersWithDirections  Cooperation  Team  Shape  \\\n",
       "0                     0                      0            0     0      1   \n",
       "1                     0                      0            0     0      1   \n",
       "2                     0                      0            0     0      1   \n",
       "3                     0                      0            0     0      1   \n",
       "4                     0                      0            0     0      1   \n",
       "\n",
       "   SquareShape  ...  agent1_part1        agent1_part2  agent1_part3  \\\n",
       "0            0  ...          MCTS  ProgressiveHistory           0.1   \n",
       "1            0  ...          MCTS  ProgressiveHistory           0.1   \n",
       "2            0  ...          MCTS  ProgressiveHistory           0.1   \n",
       "3            0  ...          MCTS  ProgressiveHistory           0.1   \n",
       "4            0  ...          MCTS  ProgressiveHistory           0.1   \n",
       "\n",
       "   agent1_part4  agent1_part5  agent2_part1        agent2_part2  \\\n",
       "0          MAST         false          MCTS  ProgressiveHistory   \n",
       "1          MAST         false          MCTS           UCB1GRAVE   \n",
       "2          MAST          true          MCTS                UCB1   \n",
       "3          MAST          true          MCTS                UCB1   \n",
       "4          MAST          true          MCTS           UCB1GRAVE   \n",
       "\n",
       "    agent2_part3  agent2_part4  agent2_part5  \n",
       "0            0.6     Random200         false  \n",
       "1            0.6           NST          true  \n",
       "2            0.1           NST         false  \n",
       "3            0.6           NST         false  \n",
       "4  1.41421356237           NST         false  \n",
       "\n",
       "[5 rows x 604 columns]"
      ]
     },
     "execution_count": 8,
     "metadata": {},
     "output_type": "execute_result"
    }
   ],
   "source": [
    "# Split 'agent1' into 5 parts and assign to new columns\n",
    "X[['agent1_part1', 'agent1_part2', 'agent1_part3', 'agent1_part4', 'agent1_part5']] = X['agent1'].str.split('-', expand=True)\n",
    "\n",
    "# Split 'agent2' into 5 parts and assign to new columns\n",
    "X[['agent2_part1', 'agent2_part2', 'agent2_part3', 'agent2_part4', 'agent2_part5']] = X['agent2'].str.split('-', expand=True)\n",
    "\n",
    "test[['agent1_part1', 'agent1_part2', 'agent1_part3', 'agent1_part4', 'agent1_part5']] = test['agent1'].str.split('-', expand=True)\n",
    "\n",
    "# Split 'agent2' into 5 parts and assign to new columns\n",
    "test[['agent2_part1', 'agent2_part2', 'agent2_part3', 'agent2_part4', 'agent2_part5']] = test['agent2'].str.split('-', expand=True)\n",
    "\n",
    "X = X.drop(['Id','agent1','agent2'], axis=1)\n",
    "\n",
    "test = test.drop(['Id','agent1','agent2'], axis=1)\n",
    "\n",
    "X.head()\n",
    "\n",
    "\n"
   ]
  },
  {
   "cell_type": "code",
   "execution_count": 9,
   "id": "d2fd5589",
   "metadata": {
    "execution": {
     "iopub.execute_input": "2024-09-10T09:06:13.716276Z",
     "iopub.status.busy": "2024-09-10T09:06:13.715705Z",
     "iopub.status.idle": "2024-09-10T09:06:14.109078Z",
     "shell.execute_reply": "2024-09-10T09:06:14.107891Z"
    },
    "papermill": {
     "duration": 0.408343,
     "end_time": "2024-09-10T09:06:14.112331",
     "exception": false,
     "start_time": "2024-09-10T09:06:13.703988",
     "status": "completed"
    },
    "tags": []
   },
   "outputs": [],
   "source": [
    "# Select only categorical features and the target\n",
    "categorical_features = X.select_dtypes(include=['object', 'category']).columns\n",
    "\n",
    "num_feat = X.select_dtypes('number').columns\n",
    "feature_names = X.columns"
   ]
  },
  {
   "cell_type": "code",
   "execution_count": 10,
   "id": "e7130e54",
   "metadata": {
    "execution": {
     "iopub.execute_input": "2024-09-10T09:06:14.134029Z",
     "iopub.status.busy": "2024-09-10T09:06:14.133566Z",
     "iopub.status.idle": "2024-09-10T09:06:21.086246Z",
     "shell.execute_reply": "2024-09-10T09:06:21.084921Z"
    },
    "papermill": {
     "duration": 6.967567,
     "end_time": "2024-09-10T09:06:21.089659",
     "exception": false,
     "start_time": "2024-09-10T09:06:14.122092",
     "status": "completed"
    },
    "tags": []
   },
   "outputs": [],
   "source": [
    "from sklearn.preprocessing import OrdinalEncoder, StandardScaler\n",
    "cat_encoder = OrdinalEncoder()\n",
    "std = StandardScaler()\n",
    "from sklearn.compose import ColumnTransformer\n",
    "ct = ColumnTransformer([('cat', cat_encoder, categorical_features),('std', StandardScaler(), num_feat)])\n",
    "\n",
    "X = ct.fit_transform(X)\n"
   ]
  },
  {
   "cell_type": "code",
   "execution_count": 11,
   "id": "5a53c1c8",
   "metadata": {
    "execution": {
     "iopub.execute_input": "2024-09-10T09:06:21.111798Z",
     "iopub.status.busy": "2024-09-10T09:06:21.111039Z",
     "iopub.status.idle": "2024-09-10T09:06:21.639804Z",
     "shell.execute_reply": "2024-09-10T09:06:21.638487Z"
    },
    "papermill": {
     "duration": 0.544481,
     "end_time": "2024-09-10T09:06:21.644079",
     "exception": false,
     "start_time": "2024-09-10T09:06:21.099598",
     "status": "completed"
    },
    "tags": []
   },
   "outputs": [],
   "source": [
    "from sklearn.model_selection import train_test_split\n",
    "X_train, X_test, y_train, y_test = train_test_split(X, y, test_size=0.2, random_state=42)"
   ]
  },
  {
   "cell_type": "code",
   "execution_count": 12,
   "id": "1329230e",
   "metadata": {
    "execution": {
     "iopub.execute_input": "2024-09-10T09:06:21.673670Z",
     "iopub.status.busy": "2024-09-10T09:06:21.672980Z",
     "iopub.status.idle": "2024-09-10T09:07:08.946663Z",
     "shell.execute_reply": "2024-09-10T09:07:08.945454Z"
    },
    "papermill": {
     "duration": 47.292345,
     "end_time": "2024-09-10T09:07:08.949636",
     "exception": false,
     "start_time": "2024-09-10T09:06:21.657291",
     "status": "completed"
    },
    "tags": []
   },
   "outputs": [
    {
     "name": "stderr",
     "output_type": "stream",
     "text": [
      "/opt/conda/lib/python3.10/site-packages/xgboost/sklearn.py:889: UserWarning: `eval_metric` in `fit` method is deprecated for better compatibility with scikit-learn, use `eval_metric` in constructor or`set_params` instead.\n",
      "  warnings.warn(\n",
      "/opt/conda/lib/python3.10/site-packages/xgboost/sklearn.py:889: UserWarning: `early_stopping_rounds` in `fit` method is deprecated for better compatibility with scikit-learn, use `early_stopping_rounds` in constructor or`set_params` instead.\n",
      "  warnings.warn(\n"
     ]
    },
    {
     "name": "stdout",
     "output_type": "stream",
     "text": [
      "[0]\tvalidation_0-rmse:0.43793\n",
      "[1]\tvalidation_0-rmse:0.30775\n",
      "[2]\tvalidation_0-rmse:0.21633\n",
      "[3]\tvalidation_0-rmse:0.15183\n",
      "[4]\tvalidation_0-rmse:0.10663\n",
      "[5]\tvalidation_0-rmse:0.07512\n",
      "[6]\tvalidation_0-rmse:0.05307\n",
      "[7]\tvalidation_0-rmse:0.03748\n",
      "[8]\tvalidation_0-rmse:0.02666\n",
      "[9]\tvalidation_0-rmse:0.01912\n",
      "[10]\tvalidation_0-rmse:0.01384\n",
      "[11]\tvalidation_0-rmse:0.01021\n",
      "[12]\tvalidation_0-rmse:0.00783\n",
      "[13]\tvalidation_0-rmse:0.00611\n",
      "[14]\tvalidation_0-rmse:0.00502\n",
      "[15]\tvalidation_0-rmse:0.00422\n",
      "[16]\tvalidation_0-rmse:0.00373\n",
      "[17]\tvalidation_0-rmse:0.00339\n",
      "[18]\tvalidation_0-rmse:0.00318\n",
      "[19]\tvalidation_0-rmse:0.00294\n",
      "[20]\tvalidation_0-rmse:0.00277\n",
      "[21]\tvalidation_0-rmse:0.00270\n",
      "[22]\tvalidation_0-rmse:0.00251\n",
      "[23]\tvalidation_0-rmse:0.00244\n",
      "[24]\tvalidation_0-rmse:0.00241\n",
      "[25]\tvalidation_0-rmse:0.00233\n",
      "[26]\tvalidation_0-rmse:0.00230\n",
      "[27]\tvalidation_0-rmse:0.00226\n",
      "[28]\tvalidation_0-rmse:0.00223\n",
      "[29]\tvalidation_0-rmse:0.00221\n",
      "[30]\tvalidation_0-rmse:0.00219\n",
      "[31]\tvalidation_0-rmse:0.00218\n",
      "[32]\tvalidation_0-rmse:0.00217\n",
      "[33]\tvalidation_0-rmse:0.00217\n",
      "[34]\tvalidation_0-rmse:0.00216\n",
      "[35]\tvalidation_0-rmse:0.00212\n",
      "[36]\tvalidation_0-rmse:0.00211\n",
      "[37]\tvalidation_0-rmse:0.00210\n",
      "[38]\tvalidation_0-rmse:0.00209\n",
      "[39]\tvalidation_0-rmse:0.00209\n",
      "[40]\tvalidation_0-rmse:0.00209\n",
      "[41]\tvalidation_0-rmse:0.00208\n",
      "[42]\tvalidation_0-rmse:0.00206\n",
      "[43]\tvalidation_0-rmse:0.00206\n",
      "[44]\tvalidation_0-rmse:0.00206\n",
      "[45]\tvalidation_0-rmse:0.00205\n",
      "[46]\tvalidation_0-rmse:0.00205\n",
      "[47]\tvalidation_0-rmse:0.00204\n",
      "[48]\tvalidation_0-rmse:0.00203\n",
      "[49]\tvalidation_0-rmse:0.00202\n",
      "[50]\tvalidation_0-rmse:0.00202\n",
      "[51]\tvalidation_0-rmse:0.00201\n",
      "[52]\tvalidation_0-rmse:0.00200\n",
      "[53]\tvalidation_0-rmse:0.00199\n",
      "[54]\tvalidation_0-rmse:0.00199\n",
      "[55]\tvalidation_0-rmse:0.00200\n",
      "[56]\tvalidation_0-rmse:0.00198\n",
      "[57]\tvalidation_0-rmse:0.00197\n",
      "[58]\tvalidation_0-rmse:0.00197\n",
      "[59]\tvalidation_0-rmse:0.00197\n",
      "[60]\tvalidation_0-rmse:0.00196\n",
      "[61]\tvalidation_0-rmse:0.00195\n",
      "[62]\tvalidation_0-rmse:0.00195\n",
      "[63]\tvalidation_0-rmse:0.00195\n",
      "[64]\tvalidation_0-rmse:0.00195\n",
      "[65]\tvalidation_0-rmse:0.00195\n",
      "[66]\tvalidation_0-rmse:0.00194\n",
      "[67]\tvalidation_0-rmse:0.00194\n",
      "[68]\tvalidation_0-rmse:0.00194\n",
      "[69]\tvalidation_0-rmse:0.00194\n",
      "[70]\tvalidation_0-rmse:0.00193\n",
      "[71]\tvalidation_0-rmse:0.00194\n",
      "[72]\tvalidation_0-rmse:0.00193\n",
      "[73]\tvalidation_0-rmse:0.00194\n",
      "[74]\tvalidation_0-rmse:0.00194\n",
      "[75]\tvalidation_0-rmse:0.00194\n",
      "[76]\tvalidation_0-rmse:0.00194\n",
      "[77]\tvalidation_0-rmse:0.00194\n",
      "[78]\tvalidation_0-rmse:0.00194\n",
      "[79]\tvalidation_0-rmse:0.00193\n",
      "[80]\tvalidation_0-rmse:0.00193\n",
      "[81]\tvalidation_0-rmse:0.00193\n",
      "[82]\tvalidation_0-rmse:0.00193\n",
      "[83]\tvalidation_0-rmse:0.00193\n",
      "[84]\tvalidation_0-rmse:0.00193\n",
      "[85]\tvalidation_0-rmse:0.00193\n",
      "[86]\tvalidation_0-rmse:0.00193\n",
      "[87]\tvalidation_0-rmse:0.00193\n",
      "[88]\tvalidation_0-rmse:0.00193\n",
      "[89]\tvalidation_0-rmse:0.00193\n"
     ]
    },
    {
     "data": {
      "text/html": [
       "<style>#sk-container-id-1 {color: black;background-color: white;}#sk-container-id-1 pre{padding: 0;}#sk-container-id-1 div.sk-toggleable {background-color: white;}#sk-container-id-1 label.sk-toggleable__label {cursor: pointer;display: block;width: 100%;margin-bottom: 0;padding: 0.3em;box-sizing: border-box;text-align: center;}#sk-container-id-1 label.sk-toggleable__label-arrow:before {content: \"▸\";float: left;margin-right: 0.25em;color: #696969;}#sk-container-id-1 label.sk-toggleable__label-arrow:hover:before {color: black;}#sk-container-id-1 div.sk-estimator:hover label.sk-toggleable__label-arrow:before {color: black;}#sk-container-id-1 div.sk-toggleable__content {max-height: 0;max-width: 0;overflow: hidden;text-align: left;background-color: #f0f8ff;}#sk-container-id-1 div.sk-toggleable__content pre {margin: 0.2em;color: black;border-radius: 0.25em;background-color: #f0f8ff;}#sk-container-id-1 input.sk-toggleable__control:checked~div.sk-toggleable__content {max-height: 200px;max-width: 100%;overflow: auto;}#sk-container-id-1 input.sk-toggleable__control:checked~label.sk-toggleable__label-arrow:before {content: \"▾\";}#sk-container-id-1 div.sk-estimator input.sk-toggleable__control:checked~label.sk-toggleable__label {background-color: #d4ebff;}#sk-container-id-1 div.sk-label input.sk-toggleable__control:checked~label.sk-toggleable__label {background-color: #d4ebff;}#sk-container-id-1 input.sk-hidden--visually {border: 0;clip: rect(1px 1px 1px 1px);clip: rect(1px, 1px, 1px, 1px);height: 1px;margin: -1px;overflow: hidden;padding: 0;position: absolute;width: 1px;}#sk-container-id-1 div.sk-estimator {font-family: monospace;background-color: #f0f8ff;border: 1px dotted black;border-radius: 0.25em;box-sizing: border-box;margin-bottom: 0.5em;}#sk-container-id-1 div.sk-estimator:hover {background-color: #d4ebff;}#sk-container-id-1 div.sk-parallel-item::after {content: \"\";width: 100%;border-bottom: 1px solid gray;flex-grow: 1;}#sk-container-id-1 div.sk-label:hover label.sk-toggleable__label {background-color: #d4ebff;}#sk-container-id-1 div.sk-serial::before {content: \"\";position: absolute;border-left: 1px solid gray;box-sizing: border-box;top: 0;bottom: 0;left: 50%;z-index: 0;}#sk-container-id-1 div.sk-serial {display: flex;flex-direction: column;align-items: center;background-color: white;padding-right: 0.2em;padding-left: 0.2em;position: relative;}#sk-container-id-1 div.sk-item {position: relative;z-index: 1;}#sk-container-id-1 div.sk-parallel {display: flex;align-items: stretch;justify-content: center;background-color: white;position: relative;}#sk-container-id-1 div.sk-item::before, #sk-container-id-1 div.sk-parallel-item::before {content: \"\";position: absolute;border-left: 1px solid gray;box-sizing: border-box;top: 0;bottom: 0;left: 50%;z-index: -1;}#sk-container-id-1 div.sk-parallel-item {display: flex;flex-direction: column;z-index: 1;position: relative;background-color: white;}#sk-container-id-1 div.sk-parallel-item:first-child::after {align-self: flex-end;width: 50%;}#sk-container-id-1 div.sk-parallel-item:last-child::after {align-self: flex-start;width: 50%;}#sk-container-id-1 div.sk-parallel-item:only-child::after {width: 0;}#sk-container-id-1 div.sk-dashed-wrapped {border: 1px dashed gray;margin: 0 0.4em 0.5em 0.4em;box-sizing: border-box;padding-bottom: 0.4em;background-color: white;}#sk-container-id-1 div.sk-label label {font-family: monospace;font-weight: bold;display: inline-block;line-height: 1.2em;}#sk-container-id-1 div.sk-label-container {text-align: center;}#sk-container-id-1 div.sk-container {/* jupyter's `normalize.less` sets `[hidden] { display: none; }` but bootstrap.min.css set `[hidden] { display: none !important; }` so we also need the `!important` here to be able to override the default hidden behavior on the sphinx rendered scikit-learn.org. See: https://github.com/scikit-learn/scikit-learn/issues/21755 */display: inline-block !important;position: relative;}#sk-container-id-1 div.sk-text-repr-fallback {display: none;}</style><div id=\"sk-container-id-1\" class=\"sk-top-container\"><div class=\"sk-text-repr-fallback\"><pre>XGBRegressor(base_score=None, booster=None, callbacks=None,\n",
       "             colsample_bylevel=None, colsample_bynode=None,\n",
       "             colsample_bytree=None, device=None, early_stopping_rounds=None,\n",
       "             enable_categorical=False, eval_metric=None, feature_types=None,\n",
       "             gamma=None, grow_policy=None, importance_type=None,\n",
       "             interaction_constraints=None, learning_rate=None, max_bin=None,\n",
       "             max_cat_threshold=None, max_cat_to_onehot=None,\n",
       "             max_delta_step=None, max_depth=None, max_leaves=None,\n",
       "             min_child_weight=None, missing=nan, monotone_constraints=None,\n",
       "             multi_strategy=None, n_estimators=None, n_jobs=None,\n",
       "             num_parallel_tree=None, random_state=42, ...)</pre><b>In a Jupyter environment, please rerun this cell to show the HTML representation or trust the notebook. <br />On GitHub, the HTML representation is unable to render, please try loading this page with nbviewer.org.</b></div><div class=\"sk-container\" hidden><div class=\"sk-item\"><div class=\"sk-estimator sk-toggleable\"><input class=\"sk-toggleable__control sk-hidden--visually\" id=\"sk-estimator-id-1\" type=\"checkbox\" checked><label for=\"sk-estimator-id-1\" class=\"sk-toggleable__label sk-toggleable__label-arrow\">XGBRegressor</label><div class=\"sk-toggleable__content\"><pre>XGBRegressor(base_score=None, booster=None, callbacks=None,\n",
       "             colsample_bylevel=None, colsample_bynode=None,\n",
       "             colsample_bytree=None, device=None, early_stopping_rounds=None,\n",
       "             enable_categorical=False, eval_metric=None, feature_types=None,\n",
       "             gamma=None, grow_policy=None, importance_type=None,\n",
       "             interaction_constraints=None, learning_rate=None, max_bin=None,\n",
       "             max_cat_threshold=None, max_cat_to_onehot=None,\n",
       "             max_delta_step=None, max_depth=None, max_leaves=None,\n",
       "             min_child_weight=None, missing=nan, monotone_constraints=None,\n",
       "             multi_strategy=None, n_estimators=None, n_jobs=None,\n",
       "             num_parallel_tree=None, random_state=42, ...)</pre></div></div></div></div></div>"
      ],
      "text/plain": [
       "XGBRegressor(base_score=None, booster=None, callbacks=None,\n",
       "             colsample_bylevel=None, colsample_bynode=None,\n",
       "             colsample_bytree=None, device=None, early_stopping_rounds=None,\n",
       "             enable_categorical=False, eval_metric=None, feature_types=None,\n",
       "             gamma=None, grow_policy=None, importance_type=None,\n",
       "             interaction_constraints=None, learning_rate=None, max_bin=None,\n",
       "             max_cat_threshold=None, max_cat_to_onehot=None,\n",
       "             max_delta_step=None, max_depth=None, max_leaves=None,\n",
       "             min_child_weight=None, missing=nan, monotone_constraints=None,\n",
       "             multi_strategy=None, n_estimators=None, n_jobs=None,\n",
       "             num_parallel_tree=None, random_state=42, ...)"
      ]
     },
     "execution_count": 12,
     "metadata": {},
     "output_type": "execute_result"
    }
   ],
   "source": [
    "import xgboost as xgb\n",
    "xgb = xgb.XGBRegressor(random_state=42)\n",
    "xgb.fit(X_train, y_train, early_stopping_rounds=10, eval_set=[(X_test, y_test)], eval_metric='rmse')"
   ]
  },
  {
   "cell_type": "code",
   "execution_count": 13,
   "id": "f6206c91",
   "metadata": {
    "execution": {
     "iopub.execute_input": "2024-09-10T09:07:08.990280Z",
     "iopub.status.busy": "2024-09-10T09:07:08.989788Z",
     "iopub.status.idle": "2024-09-10T09:07:09.119451Z",
     "shell.execute_reply": "2024-09-10T09:07:09.118178Z"
    },
    "papermill": {
     "duration": 0.154389,
     "end_time": "2024-09-10T09:07:09.123485",
     "exception": false,
     "start_time": "2024-09-10T09:07:08.969096",
     "status": "completed"
    },
    "tags": []
   },
   "outputs": [
    {
     "data": {
      "text/plain": [
       "0.9999904171341677"
      ]
     },
     "execution_count": 13,
     "metadata": {},
     "output_type": "execute_result"
    }
   ],
   "source": [
    "xgb.score(X_test, y_test)"
   ]
  },
  {
   "cell_type": "code",
   "execution_count": 14,
   "id": "94ffb5bf",
   "metadata": {
    "execution": {
     "iopub.execute_input": "2024-09-10T09:07:09.164188Z",
     "iopub.status.busy": "2024-09-10T09:07:09.163726Z",
     "iopub.status.idle": "2024-09-10T09:07:09.173488Z",
     "shell.execute_reply": "2024-09-10T09:07:09.171985Z"
    },
    "papermill": {
     "duration": 0.033981,
     "end_time": "2024-09-10T09:07:09.176908",
     "exception": false,
     "start_time": "2024-09-10T09:07:09.142927",
     "status": "completed"
    },
    "tags": []
   },
   "outputs": [
    {
     "name": "stdout",
     "output_type": "stream",
     "text": [
      "agent2_part3     0.630\n",
      "agent2_part5     0.368\n",
      "agent2_part4     0.001\n",
      "NumConcaveCorners     0.000\n",
      "MoveDistanceAverage     0.000\n",
      "NumAdjacentDirections     0.000\n",
      "Drawishness     0.000\n",
      "SemiRegularTiling     0.000\n",
      "ScoreDifferenceChangeAverage     0.000\n",
      "LesserThan     0.000\n"
     ]
    }
   ],
   "source": [
    "for col, val in sorted(zip(feature_names, xgb.feature_importances_), key=lambda x: x[1],reverse=True)[:10]:\n",
    "    print(f'{col:10}{val:10.3f}')"
   ]
  },
  {
   "cell_type": "code",
   "execution_count": 15,
   "id": "0cdd5410",
   "metadata": {
    "execution": {
     "iopub.execute_input": "2024-09-10T09:07:09.220315Z",
     "iopub.status.busy": "2024-09-10T09:07:09.219289Z",
     "iopub.status.idle": "2024-09-10T09:07:48.564759Z",
     "shell.execute_reply": "2024-09-10T09:07:48.563191Z"
    },
    "papermill": {
     "duration": 39.389004,
     "end_time": "2024-09-10T09:07:48.586066",
     "exception": false,
     "start_time": "2024-09-10T09:07:09.197062",
     "status": "completed"
    },
    "tags": []
   },
   "outputs": [
    {
     "name": "stderr",
     "output_type": "stream",
     "text": [
      "/opt/conda/lib/python3.10/site-packages/sklearn/utils/validation.py:1143: DataConversionWarning: A column-vector y was passed when a 1d array was expected. Please change the shape of y to (n_samples, ), for example using ravel().\n",
      "  y = column_or_1d(y, warn=True)\n"
     ]
    },
    {
     "name": "stdout",
     "output_type": "stream",
     "text": [
      "[LightGBM] [Info] Auto-choosing col-wise multi-threading, the overhead of testing was 1.116985 seconds.\n",
      "You can set `force_col_wise=true` to remove the overhead.\n",
      "[LightGBM] [Info] Total Bins 18557\n",
      "[LightGBM] [Info] Number of data points in the train set: 186587, number of used features: 602\n",
      "[LightGBM] [Info] Start training from score 0.043666\n"
     ]
    },
    {
     "data": {
      "text/html": [
       "<style>#sk-container-id-2 {color: black;background-color: white;}#sk-container-id-2 pre{padding: 0;}#sk-container-id-2 div.sk-toggleable {background-color: white;}#sk-container-id-2 label.sk-toggleable__label {cursor: pointer;display: block;width: 100%;margin-bottom: 0;padding: 0.3em;box-sizing: border-box;text-align: center;}#sk-container-id-2 label.sk-toggleable__label-arrow:before {content: \"▸\";float: left;margin-right: 0.25em;color: #696969;}#sk-container-id-2 label.sk-toggleable__label-arrow:hover:before {color: black;}#sk-container-id-2 div.sk-estimator:hover label.sk-toggleable__label-arrow:before {color: black;}#sk-container-id-2 div.sk-toggleable__content {max-height: 0;max-width: 0;overflow: hidden;text-align: left;background-color: #f0f8ff;}#sk-container-id-2 div.sk-toggleable__content pre {margin: 0.2em;color: black;border-radius: 0.25em;background-color: #f0f8ff;}#sk-container-id-2 input.sk-toggleable__control:checked~div.sk-toggleable__content {max-height: 200px;max-width: 100%;overflow: auto;}#sk-container-id-2 input.sk-toggleable__control:checked~label.sk-toggleable__label-arrow:before {content: \"▾\";}#sk-container-id-2 div.sk-estimator input.sk-toggleable__control:checked~label.sk-toggleable__label {background-color: #d4ebff;}#sk-container-id-2 div.sk-label input.sk-toggleable__control:checked~label.sk-toggleable__label {background-color: #d4ebff;}#sk-container-id-2 input.sk-hidden--visually {border: 0;clip: rect(1px 1px 1px 1px);clip: rect(1px, 1px, 1px, 1px);height: 1px;margin: -1px;overflow: hidden;padding: 0;position: absolute;width: 1px;}#sk-container-id-2 div.sk-estimator {font-family: monospace;background-color: #f0f8ff;border: 1px dotted black;border-radius: 0.25em;box-sizing: border-box;margin-bottom: 0.5em;}#sk-container-id-2 div.sk-estimator:hover {background-color: #d4ebff;}#sk-container-id-2 div.sk-parallel-item::after {content: \"\";width: 100%;border-bottom: 1px solid gray;flex-grow: 1;}#sk-container-id-2 div.sk-label:hover label.sk-toggleable__label {background-color: #d4ebff;}#sk-container-id-2 div.sk-serial::before {content: \"\";position: absolute;border-left: 1px solid gray;box-sizing: border-box;top: 0;bottom: 0;left: 50%;z-index: 0;}#sk-container-id-2 div.sk-serial {display: flex;flex-direction: column;align-items: center;background-color: white;padding-right: 0.2em;padding-left: 0.2em;position: relative;}#sk-container-id-2 div.sk-item {position: relative;z-index: 1;}#sk-container-id-2 div.sk-parallel {display: flex;align-items: stretch;justify-content: center;background-color: white;position: relative;}#sk-container-id-2 div.sk-item::before, #sk-container-id-2 div.sk-parallel-item::before {content: \"\";position: absolute;border-left: 1px solid gray;box-sizing: border-box;top: 0;bottom: 0;left: 50%;z-index: -1;}#sk-container-id-2 div.sk-parallel-item {display: flex;flex-direction: column;z-index: 1;position: relative;background-color: white;}#sk-container-id-2 div.sk-parallel-item:first-child::after {align-self: flex-end;width: 50%;}#sk-container-id-2 div.sk-parallel-item:last-child::after {align-self: flex-start;width: 50%;}#sk-container-id-2 div.sk-parallel-item:only-child::after {width: 0;}#sk-container-id-2 div.sk-dashed-wrapped {border: 1px dashed gray;margin: 0 0.4em 0.5em 0.4em;box-sizing: border-box;padding-bottom: 0.4em;background-color: white;}#sk-container-id-2 div.sk-label label {font-family: monospace;font-weight: bold;display: inline-block;line-height: 1.2em;}#sk-container-id-2 div.sk-label-container {text-align: center;}#sk-container-id-2 div.sk-container {/* jupyter's `normalize.less` sets `[hidden] { display: none; }` but bootstrap.min.css set `[hidden] { display: none !important; }` so we also need the `!important` here to be able to override the default hidden behavior on the sphinx rendered scikit-learn.org. See: https://github.com/scikit-learn/scikit-learn/issues/21755 */display: inline-block !important;position: relative;}#sk-container-id-2 div.sk-text-repr-fallback {display: none;}</style><div id=\"sk-container-id-2\" class=\"sk-top-container\"><div class=\"sk-text-repr-fallback\"><pre>LGBMRegressor(random_state=42)</pre><b>In a Jupyter environment, please rerun this cell to show the HTML representation or trust the notebook. <br />On GitHub, the HTML representation is unable to render, please try loading this page with nbviewer.org.</b></div><div class=\"sk-container\" hidden><div class=\"sk-item\"><div class=\"sk-estimator sk-toggleable\"><input class=\"sk-toggleable__control sk-hidden--visually\" id=\"sk-estimator-id-2\" type=\"checkbox\" checked><label for=\"sk-estimator-id-2\" class=\"sk-toggleable__label sk-toggleable__label-arrow\">LGBMRegressor</label><div class=\"sk-toggleable__content\"><pre>LGBMRegressor(random_state=42)</pre></div></div></div></div></div>"
      ],
      "text/plain": [
       "LGBMRegressor(random_state=42)"
      ]
     },
     "execution_count": 15,
     "metadata": {},
     "output_type": "execute_result"
    }
   ],
   "source": [
    "import lightgbm as lgb\n",
    "lgr = lgb.LGBMRegressor(random_state=42)\n",
    "lgr.fit(X_train, y_train)"
   ]
  },
  {
   "cell_type": "code",
   "execution_count": 16,
   "id": "4d301b71",
   "metadata": {
    "execution": {
     "iopub.execute_input": "2024-09-10T09:07:48.626855Z",
     "iopub.status.busy": "2024-09-10T09:07:48.626119Z",
     "iopub.status.idle": "2024-09-10T09:07:49.112436Z",
     "shell.execute_reply": "2024-09-10T09:07:49.111195Z"
    },
    "papermill": {
     "duration": 0.510242,
     "end_time": "2024-09-10T09:07:49.115551",
     "exception": false,
     "start_time": "2024-09-10T09:07:48.605309",
     "status": "completed"
    },
    "tags": []
   },
   "outputs": [
    {
     "data": {
      "text/plain": [
       "0.999989111190584"
      ]
     },
     "execution_count": 16,
     "metadata": {},
     "output_type": "execute_result"
    }
   ],
   "source": [
    "lgr.score(X_test, y_test)"
   ]
  },
  {
   "cell_type": "code",
   "execution_count": 17,
   "id": "2581ca40",
   "metadata": {
    "execution": {
     "iopub.execute_input": "2024-09-10T09:07:49.156911Z",
     "iopub.status.busy": "2024-09-10T09:07:49.156459Z",
     "iopub.status.idle": "2024-09-10T09:07:49.165857Z",
     "shell.execute_reply": "2024-09-10T09:07:49.164719Z"
    },
    "papermill": {
     "duration": 0.033991,
     "end_time": "2024-09-10T09:07:49.169148",
     "exception": false,
     "start_time": "2024-09-10T09:07:49.135157",
     "status": "completed"
    },
    "tags": []
   },
   "outputs": [
    {
     "name": "stdout",
     "output_type": "stream",
     "text": [
      "agent2_part3  1203.000\n",
      "agent2_part5  1052.000\n",
      "agent2_part4   654.000\n",
      "Stochastic    11.000\n",
      "BoardSitesOccupiedMaxIncrease     6.000\n",
      "BoardSitesOccupiedChangeLineBestFit     4.000\n",
      "MovesNonDecision     3.000\n",
      "Timeouts       3.000\n",
      "DecisionFactorChangeNumTimes     3.000\n",
      "PieceNumberMedian     3.000\n",
      "Cooperation     2.000\n",
      "ProposeDecision     2.000\n",
      "LeapDecisionToEnemyFrequency     2.000\n",
      "HopEffect      2.000\n",
      "IsPieceAt      2.000\n",
      "BoardSitesOccupiedChangeSign     2.000\n",
      "DecisionFactorMedian     2.000\n",
      "DecisionFactorVariance     2.000\n",
      "MoveDistanceVariance     2.000\n",
      "ScoreDifferenceMaximum     2.000\n",
      "ScoreDifferenceChangeAverage     2.000\n",
      "ScoreDifferenceChangeSign     2.000\n",
      "ScoreDifferenceMaxIncrease     2.000\n",
      "agent2_part2     2.000\n",
      "GameRulesetName     1.000\n",
      "PlayersWithDirections     1.000\n",
      "DiamondShape     1.000\n",
      "SquarePyramidalShape     1.000\n",
      "MancalaThreeRows     1.000\n",
      "NumCells       1.000\n",
      "NumLeftSites     1.000\n",
      "HopDecisionFriendToEnemyFrequency     1.000\n",
      "SwapPlayersEffect     1.000\n",
      "InterveneCaptureFrequency     1.000\n",
      "ForwardDirection     1.000\n",
      "RightwardsDirection     1.000\n",
      "EliminatePiecesLossFrequency     1.000\n",
      "Balance        1.000\n",
      "Completion     1.000\n",
      "BoardSitesOccupiedMaximum     1.000\n",
      "BranchingFactorVariance     1.000\n",
      "BranchingFactorChangeNumTimesn     1.000\n",
      "DecisionFactorAverage     1.000\n",
      "DecisionFactorChangeLineBestFit     1.000\n",
      "MoveDistanceChangeNumTimes     1.000\n",
      "MoveDistanceMaxIncrease     1.000\n",
      "PieceNumberVariance     1.000\n",
      "PieceNumberChangeAverage     1.000\n",
      "Arithmetic     1.000\n",
      "BoardStyle     1.000\n",
      "BallComponent     1.000\n",
      "MarkerComponent     1.000\n",
      "MovesPerSecond     1.000\n",
      "agent2_part1     1.000\n",
      "Asymmetric     0.000\n",
      "AsymmetricForces     0.000\n",
      "AsymmetricPiecesType     0.000\n",
      "Team           0.000\n",
      "Shape          0.000\n",
      "SquareShape     0.000\n",
      "HexShape       0.000\n",
      "TriangleShape     0.000\n",
      "RectangleShape     0.000\n",
      "SpiralShape     0.000\n",
      "CircleShape     0.000\n",
      "StarShape      0.000\n",
      "RegularShape     0.000\n",
      "PolygonShape     0.000\n",
      "Tiling         0.000\n",
      "SquareTiling     0.000\n",
      "HexTiling      0.000\n",
      "TriangleTiling     0.000\n",
      "SemiRegularTiling     0.000\n",
      "MorrisTiling     0.000\n",
      "CircleTiling     0.000\n",
      "ConcentricTiling     0.000\n",
      "SpiralTiling     0.000\n",
      "AlquerqueTiling     0.000\n",
      "MancalaBoard     0.000\n",
      "MancalaStores     0.000\n",
      "MancalaTwoRows     0.000\n",
      "MancalaFourRows     0.000\n",
      "MancalaSixRows     0.000\n",
      "MancalaCircular     0.000\n",
      "AlquerqueBoard     0.000\n",
      "AlquerqueBoardWithOneTriangle     0.000\n",
      "AlquerqueBoardWithTwoTriangles     0.000\n",
      "AlquerqueBoardWithFourTriangles     0.000\n",
      "AlquerqueBoardWithEightTriangles     0.000\n",
      "ThreeMensMorrisBoard     0.000\n",
      "ThreeMensMorrisBoardWithTwoTriangles     0.000\n",
      "NineMensMorrisBoard     0.000\n",
      "StarBoard      0.000\n",
      "CrossBoard     0.000\n",
      "KintsBoard     0.000\n",
      "PachisiBoard     0.000\n",
      "FortyStonesWithFourGapsBoard     0.000\n",
      "Track          0.000\n",
      "TrackLoop      0.000\n",
      "TrackOwned     0.000\n"
     ]
    }
   ],
   "source": [
    "for col, val in sorted(zip(feature_names, lgr.feature_importances_), key=lambda x: x[1],reverse=True)[:100]:\n",
    "    print(f'{col:10}{val:10.3f}')"
   ]
  },
  {
   "cell_type": "code",
   "execution_count": 18,
   "id": "93b8fd72",
   "metadata": {
    "execution": {
     "iopub.execute_input": "2024-09-10T09:07:49.211857Z",
     "iopub.status.busy": "2024-09-10T09:07:49.211376Z",
     "iopub.status.idle": "2024-09-10T09:07:52.287303Z",
     "shell.execute_reply": "2024-09-10T09:07:52.285825Z"
    },
    "papermill": {
     "duration": 3.101525,
     "end_time": "2024-09-10T09:07:52.290573",
     "exception": false,
     "start_time": "2024-09-10T09:07:49.189048",
     "status": "completed"
    },
    "tags": []
   },
   "outputs": [],
   "source": [
    "from sklearn.feature_selection import VarianceThreshold\n",
    "\n",
    "# Remove features with low variance\n",
    "selector = VarianceThreshold(threshold=0.01)\n",
    "X_train = selector.fit_transform(X_train)\n",
    "X_test = selector.transform(X_test)"
   ]
  },
  {
   "cell_type": "code",
   "execution_count": 19,
   "id": "50bab542",
   "metadata": {
    "execution": {
     "iopub.execute_input": "2024-09-10T09:07:52.334684Z",
     "iopub.status.busy": "2024-09-10T09:07:52.333206Z",
     "iopub.status.idle": "2024-09-10T09:08:54.532969Z",
     "shell.execute_reply": "2024-09-10T09:08:54.531698Z"
    },
    "papermill": {
     "duration": 62.242907,
     "end_time": "2024-09-10T09:08:54.554430",
     "exception": false,
     "start_time": "2024-09-10T09:07:52.311523",
     "status": "completed"
    },
    "tags": []
   },
   "outputs": [
    {
     "name": "stderr",
     "output_type": "stream",
     "text": [
      "/opt/conda/lib/python3.10/site-packages/sklearn/utils/validation.py:1143: DataConversionWarning: A column-vector y was passed when a 1d array was expected. Please change the shape of y to (n_samples, ), for example using ravel().\n",
      "  y = column_or_1d(y, warn=True)\n"
     ]
    },
    {
     "name": "stdout",
     "output_type": "stream",
     "text": [
      "[LightGBM] [Info] Auto-choosing col-wise multi-threading, the overhead of testing was 1.863919 seconds.\n",
      "You can set `force_col_wise=true` to remove the overhead.\n",
      "[LightGBM] [Info] Total Bins 18557\n",
      "[LightGBM] [Info] Number of data points in the train set: 186587, number of used features: 602\n",
      "[LightGBM] [Info] Start training from score 0.043666\n"
     ]
    },
    {
     "data": {
      "text/html": [
       "<style>#sk-container-id-3 {color: black;background-color: white;}#sk-container-id-3 pre{padding: 0;}#sk-container-id-3 div.sk-toggleable {background-color: white;}#sk-container-id-3 label.sk-toggleable__label {cursor: pointer;display: block;width: 100%;margin-bottom: 0;padding: 0.3em;box-sizing: border-box;text-align: center;}#sk-container-id-3 label.sk-toggleable__label-arrow:before {content: \"▸\";float: left;margin-right: 0.25em;color: #696969;}#sk-container-id-3 label.sk-toggleable__label-arrow:hover:before {color: black;}#sk-container-id-3 div.sk-estimator:hover label.sk-toggleable__label-arrow:before {color: black;}#sk-container-id-3 div.sk-toggleable__content {max-height: 0;max-width: 0;overflow: hidden;text-align: left;background-color: #f0f8ff;}#sk-container-id-3 div.sk-toggleable__content pre {margin: 0.2em;color: black;border-radius: 0.25em;background-color: #f0f8ff;}#sk-container-id-3 input.sk-toggleable__control:checked~div.sk-toggleable__content {max-height: 200px;max-width: 100%;overflow: auto;}#sk-container-id-3 input.sk-toggleable__control:checked~label.sk-toggleable__label-arrow:before {content: \"▾\";}#sk-container-id-3 div.sk-estimator input.sk-toggleable__control:checked~label.sk-toggleable__label {background-color: #d4ebff;}#sk-container-id-3 div.sk-label input.sk-toggleable__control:checked~label.sk-toggleable__label {background-color: #d4ebff;}#sk-container-id-3 input.sk-hidden--visually {border: 0;clip: rect(1px 1px 1px 1px);clip: rect(1px, 1px, 1px, 1px);height: 1px;margin: -1px;overflow: hidden;padding: 0;position: absolute;width: 1px;}#sk-container-id-3 div.sk-estimator {font-family: monospace;background-color: #f0f8ff;border: 1px dotted black;border-radius: 0.25em;box-sizing: border-box;margin-bottom: 0.5em;}#sk-container-id-3 div.sk-estimator:hover {background-color: #d4ebff;}#sk-container-id-3 div.sk-parallel-item::after {content: \"\";width: 100%;border-bottom: 1px solid gray;flex-grow: 1;}#sk-container-id-3 div.sk-label:hover label.sk-toggleable__label {background-color: #d4ebff;}#sk-container-id-3 div.sk-serial::before {content: \"\";position: absolute;border-left: 1px solid gray;box-sizing: border-box;top: 0;bottom: 0;left: 50%;z-index: 0;}#sk-container-id-3 div.sk-serial {display: flex;flex-direction: column;align-items: center;background-color: white;padding-right: 0.2em;padding-left: 0.2em;position: relative;}#sk-container-id-3 div.sk-item {position: relative;z-index: 1;}#sk-container-id-3 div.sk-parallel {display: flex;align-items: stretch;justify-content: center;background-color: white;position: relative;}#sk-container-id-3 div.sk-item::before, #sk-container-id-3 div.sk-parallel-item::before {content: \"\";position: absolute;border-left: 1px solid gray;box-sizing: border-box;top: 0;bottom: 0;left: 50%;z-index: -1;}#sk-container-id-3 div.sk-parallel-item {display: flex;flex-direction: column;z-index: 1;position: relative;background-color: white;}#sk-container-id-3 div.sk-parallel-item:first-child::after {align-self: flex-end;width: 50%;}#sk-container-id-3 div.sk-parallel-item:last-child::after {align-self: flex-start;width: 50%;}#sk-container-id-3 div.sk-parallel-item:only-child::after {width: 0;}#sk-container-id-3 div.sk-dashed-wrapped {border: 1px dashed gray;margin: 0 0.4em 0.5em 0.4em;box-sizing: border-box;padding-bottom: 0.4em;background-color: white;}#sk-container-id-3 div.sk-label label {font-family: monospace;font-weight: bold;display: inline-block;line-height: 1.2em;}#sk-container-id-3 div.sk-label-container {text-align: center;}#sk-container-id-3 div.sk-container {/* jupyter's `normalize.less` sets `[hidden] { display: none; }` but bootstrap.min.css set `[hidden] { display: none !important; }` so we also need the `!important` here to be able to override the default hidden behavior on the sphinx rendered scikit-learn.org. See: https://github.com/scikit-learn/scikit-learn/issues/21755 */display: inline-block !important;position: relative;}#sk-container-id-3 div.sk-text-repr-fallback {display: none;}</style><div id=\"sk-container-id-3\" class=\"sk-top-container\"><div class=\"sk-text-repr-fallback\"><pre>LGBMRegressor(random_state=42)</pre><b>In a Jupyter environment, please rerun this cell to show the HTML representation or trust the notebook. <br />On GitHub, the HTML representation is unable to render, please try loading this page with nbviewer.org.</b></div><div class=\"sk-container\" hidden><div class=\"sk-item\"><div class=\"sk-estimator sk-toggleable\"><input class=\"sk-toggleable__control sk-hidden--visually\" id=\"sk-estimator-id-3\" type=\"checkbox\" checked><label for=\"sk-estimator-id-3\" class=\"sk-toggleable__label sk-toggleable__label-arrow\">LGBMRegressor</label><div class=\"sk-toggleable__content\"><pre>LGBMRegressor(random_state=42)</pre></div></div></div></div></div>"
      ],
      "text/plain": [
       "LGBMRegressor(random_state=42)"
      ]
     },
     "execution_count": 19,
     "metadata": {},
     "output_type": "execute_result"
    }
   ],
   "source": [
    "lgr.fit(X_train, y_train)"
   ]
  },
  {
   "cell_type": "code",
   "execution_count": 20,
   "id": "43a9b519",
   "metadata": {
    "execution": {
     "iopub.execute_input": "2024-09-10T09:08:54.598754Z",
     "iopub.status.busy": "2024-09-10T09:08:54.598169Z",
     "iopub.status.idle": "2024-09-10T09:08:55.290059Z",
     "shell.execute_reply": "2024-09-10T09:08:55.288756Z"
    },
    "papermill": {
     "duration": 0.718901,
     "end_time": "2024-09-10T09:08:55.292912",
     "exception": false,
     "start_time": "2024-09-10T09:08:54.574011",
     "status": "completed"
    },
    "tags": []
   },
   "outputs": [
    {
     "data": {
      "text/plain": [
       "0.999989111190584"
      ]
     },
     "execution_count": 20,
     "metadata": {},
     "output_type": "execute_result"
    }
   ],
   "source": [
    "lgr.score(X_test, y_test)"
   ]
  }
 ],
 "metadata": {
  "kaggle": {
   "accelerator": "none",
   "dataSources": [
    {
     "databundleVersionId": 9515283,
     "sourceId": 70089,
     "sourceType": "competition"
    }
   ],
   "dockerImageVersionId": 30761,
   "isGpuEnabled": false,
   "isInternetEnabled": true,
   "language": "python",
   "sourceType": "notebook"
  },
  "kernelspec": {
   "display_name": "Python 3",
   "language": "python",
   "name": "python3"
  },
  "language_info": {
   "codemirror_mode": {
    "name": "ipython",
    "version": 3
   },
   "file_extension": ".py",
   "mimetype": "text/x-python",
   "name": "python",
   "nbconvert_exporter": "python",
   "pygments_lexer": "ipython3",
   "version": "3.10.14"
  },
  "papermill": {
   "default_parameters": {},
   "duration": 223.27531,
   "end_time": "2024-09-10T09:08:56.439917",
   "environment_variables": {},
   "exception": null,
   "input_path": "__notebook__.ipynb",
   "output_path": "__notebook__.ipynb",
   "parameters": {},
   "start_time": "2024-09-10T09:05:13.164607",
   "version": "2.6.0"
  }
 },
 "nbformat": 4,
 "nbformat_minor": 5
}
